{
 "cells": [
  {
   "cell_type": "code",
   "execution_count": 1,
   "id": "e2d1eceb",
   "metadata": {
    "_cell_guid": "b1076dfc-b9ad-4769-8c92-a6c4dae69d19",
    "_uuid": "8f2839f25d086af736a60e9eeb907d3b93b6e0e5",
    "execution": {
     "iopub.execute_input": "2023-06-29T16:04:35.585961Z",
     "iopub.status.busy": "2023-06-29T16:04:35.585579Z",
     "iopub.status.idle": "2023-06-29T16:04:39.140827Z",
     "shell.execute_reply": "2023-06-29T16:04:39.139897Z"
    },
    "papermill": {
     "duration": 3.563923,
     "end_time": "2023-06-29T16:04:39.143279",
     "exception": false,
     "start_time": "2023-06-29T16:04:35.579356",
     "status": "completed"
    },
    "tags": []
   },
   "outputs": [],
   "source": [
    "import torch\n",
    "import torch.nn as nn\n",
    "import torch.optim as optim\n",
    "import torch.nn.init as init"
   ]
  },
  {
   "cell_type": "code",
   "execution_count": 2,
   "id": "95438825",
   "metadata": {
    "execution": {
     "iopub.execute_input": "2023-06-29T16:04:39.153814Z",
     "iopub.status.busy": "2023-06-29T16:04:39.152561Z",
     "iopub.status.idle": "2023-06-29T16:04:39.162796Z",
     "shell.execute_reply": "2023-06-29T16:04:39.161920Z"
    },
    "papermill": {
     "duration": 0.017299,
     "end_time": "2023-06-29T16:04:39.164946",
     "exception": false,
     "start_time": "2023-06-29T16:04:39.147647",
     "status": "completed"
    },
    "tags": []
   },
   "outputs": [],
   "source": [
    "X = torch.Tensor(2,3) #Tensor = 다차원 array"
   ]
  },
  {
   "cell_type": "code",
   "execution_count": 3,
   "id": "81cf6d5e",
   "metadata": {
    "execution": {
     "iopub.execute_input": "2023-06-29T16:04:39.174444Z",
     "iopub.status.busy": "2023-06-29T16:04:39.174162Z",
     "iopub.status.idle": "2023-06-29T16:04:39.250945Z",
     "shell.execute_reply": "2023-06-29T16:04:39.249914Z"
    },
    "papermill": {
     "duration": 0.085296,
     "end_time": "2023-06-29T16:04:39.254106",
     "exception": false,
     "start_time": "2023-06-29T16:04:39.168810",
     "status": "completed"
    },
    "tags": []
   },
   "outputs": [
    {
     "data": {
      "text/plain": [
       "tensor([[-1.3956e-34,  4.5785e-41, -1.1983e-14],\n",
       "        [ 4.5783e-41, -1.2026e-14,  4.5783e-41]])"
      ]
     },
     "execution_count": 3,
     "metadata": {},
     "output_type": "execute_result"
    }
   ],
   "source": [
    "X"
   ]
  },
  {
   "cell_type": "code",
   "execution_count": 4,
   "id": "fc68988c",
   "metadata": {
    "execution": {
     "iopub.execute_input": "2023-06-29T16:04:39.263836Z",
     "iopub.status.busy": "2023-06-29T16:04:39.263504Z",
     "iopub.status.idle": "2023-06-29T16:04:39.268071Z",
     "shell.execute_reply": "2023-06-29T16:04:39.267132Z"
    },
    "papermill": {
     "duration": 0.011827,
     "end_time": "2023-06-29T16:04:39.270038",
     "exception": false,
     "start_time": "2023-06-29T16:04:39.258211",
     "status": "completed"
    },
    "tags": []
   },
   "outputs": [],
   "source": [
    "X = torch.Tensor([[1,2,3],[4,5,6]])"
   ]
  },
  {
   "cell_type": "code",
   "execution_count": 5,
   "id": "fc0637bf",
   "metadata": {
    "execution": {
     "iopub.execute_input": "2023-06-29T16:04:39.279683Z",
     "iopub.status.busy": "2023-06-29T16:04:39.279038Z",
     "iopub.status.idle": "2023-06-29T16:04:39.285832Z",
     "shell.execute_reply": "2023-06-29T16:04:39.284909Z"
    },
    "papermill": {
     "duration": 0.013496,
     "end_time": "2023-06-29T16:04:39.287730",
     "exception": false,
     "start_time": "2023-06-29T16:04:39.274234",
     "status": "completed"
    },
    "tags": []
   },
   "outputs": [
    {
     "data": {
      "text/plain": [
       "tensor([[1., 2., 3.],\n",
       "        [4., 5., 6.]])"
      ]
     },
     "execution_count": 5,
     "metadata": {},
     "output_type": "execute_result"
    }
   ],
   "source": [
    "X"
   ]
  },
  {
   "cell_type": "code",
   "execution_count": 6,
   "id": "c77c5c7d",
   "metadata": {
    "execution": {
     "iopub.execute_input": "2023-06-29T16:04:39.297630Z",
     "iopub.status.busy": "2023-06-29T16:04:39.297133Z",
     "iopub.status.idle": "2023-06-29T16:04:39.386717Z",
     "shell.execute_reply": "2023-06-29T16:04:39.385812Z"
    },
    "papermill": {
     "duration": 0.097197,
     "end_time": "2023-06-29T16:04:39.389143",
     "exception": false,
     "start_time": "2023-06-29T16:04:39.291946",
     "status": "completed"
    },
    "tags": []
   },
   "outputs": [
    {
     "name": "stdout",
     "output_type": "stream",
     "text": [
      "tensor([ 8., 12.]) None None\n"
     ]
    },
    {
     "name": "stderr",
     "output_type": "stream",
     "text": [
      "/tmp/ipykernel_23/3005154689.py:9: UserWarning: The .grad attribute of a Tensor that is not a leaf Tensor is being accessed. Its .grad attribute won't be populated during autograd.backward(). If you indeed want the .grad field to be populated for a non-leaf Tensor, use .retain_grad() on the non-leaf Tensor. If you access the non-leaf Tensor by mistake, make sure you access the leaf Tensor instead. See github.com/pytorch/pytorch/pull/30531 for more informations. (Triggered internally at /usr/local/src/pytorch/build/aten/src/ATen/core/TensorBody.h:486.)\n",
      "  print(x.grad, y.grad, z.grad)\n"
     ]
    }
   ],
   "source": [
    "x = torch.tensor(data=[2.0,3.0], requires_grad=True)\n",
    "y=x**2\n",
    "z = 2*y +3\n",
    "\n",
    "target = torch.tensor([3,4])\n",
    "loss = torch.sum(torch.abs(z-target))\n",
    "loss.backward()\n",
    "\n",
    "print(x.grad, y.grad, z.grad)"
   ]
  },
  {
   "cell_type": "code",
   "execution_count": 7,
   "id": "d17d9a95",
   "metadata": {
    "execution": {
     "iopub.execute_input": "2023-06-29T16:04:39.399200Z",
     "iopub.status.busy": "2023-06-29T16:04:39.398886Z",
     "iopub.status.idle": "2023-06-29T16:04:39.407758Z",
     "shell.execute_reply": "2023-06-29T16:04:39.406538Z"
    },
    "papermill": {
     "duration": 0.01586,
     "end_time": "2023-06-29T16:04:39.409630",
     "exception": false,
     "start_time": "2023-06-29T16:04:39.393770",
     "status": "completed"
    },
    "tags": []
   },
   "outputs": [
    {
     "name": "stderr",
     "output_type": "stream",
     "text": [
      "/tmp/ipykernel_23/880071881.py:4: UserWarning: nn.init.uniform is now deprecated in favor of nn.init.uniform_.\n",
      "  x=init.uniform(torch.Tensor(num_data,1),-10,10)\n"
     ]
    }
   ],
   "source": [
    "num_data = 1000\n",
    "num_epoch = 500\n",
    "\n",
    "x=init.uniform(torch.Tensor(num_data,1),-10,10)\n",
    "noise = init.normal_(torch.FloatTensor(num_data,1),std=1)\n",
    "y=2*x+3\n",
    "y_noise = y + noise"
   ]
  },
  {
   "cell_type": "code",
   "execution_count": 8,
   "id": "54faf17d",
   "metadata": {
    "execution": {
     "iopub.execute_input": "2023-06-29T16:04:39.420064Z",
     "iopub.status.busy": "2023-06-29T16:04:39.419350Z",
     "iopub.status.idle": "2023-06-29T16:04:39.424260Z",
     "shell.execute_reply": "2023-06-29T16:04:39.423362Z"
    },
    "papermill": {
     "duration": 0.012067,
     "end_time": "2023-06-29T16:04:39.426130",
     "exception": false,
     "start_time": "2023-06-29T16:04:39.414063",
     "status": "completed"
    },
    "tags": []
   },
   "outputs": [],
   "source": [
    "model = nn.Linear(1,1)\n",
    "loss_func = nn.L1Loss()"
   ]
  },
  {
   "cell_type": "code",
   "execution_count": 9,
   "id": "9a81c7d1",
   "metadata": {
    "execution": {
     "iopub.execute_input": "2023-06-29T16:04:39.436363Z",
     "iopub.status.busy": "2023-06-29T16:04:39.435646Z",
     "iopub.status.idle": "2023-06-29T16:04:39.440411Z",
     "shell.execute_reply": "2023-06-29T16:04:39.439572Z"
    },
    "papermill": {
     "duration": 0.012064,
     "end_time": "2023-06-29T16:04:39.442427",
     "exception": false,
     "start_time": "2023-06-29T16:04:39.430363",
     "status": "completed"
    },
    "tags": []
   },
   "outputs": [],
   "source": [
    "optimizer = optim.SGD(model.parameters(),lr=0.01)"
   ]
  },
  {
   "cell_type": "code",
   "execution_count": 10,
   "id": "dab7d1d7",
   "metadata": {
    "execution": {
     "iopub.execute_input": "2023-06-29T16:04:39.452274Z",
     "iopub.status.busy": "2023-06-29T16:04:39.452007Z",
     "iopub.status.idle": "2023-06-29T16:04:39.658465Z",
     "shell.execute_reply": "2023-06-29T16:04:39.657086Z"
    },
    "papermill": {
     "duration": 0.213589,
     "end_time": "2023-06-29T16:04:39.660494",
     "exception": false,
     "start_time": "2023-06-29T16:04:39.446905",
     "status": "completed"
    },
    "tags": []
   },
   "outputs": [
    {
     "name": "stdout",
     "output_type": "stream",
     "text": [
      "tensor(10.1744)\n",
      "tensor(7.6767)\n",
      "tensor(5.2643)\n",
      "tensor(3.1343)\n",
      "tensor(2.2105)\n",
      "tensor(1.9906)\n",
      "tensor(1.8707)\n",
      "tensor(1.7678)\n",
      "tensor(1.6794)\n",
      "tensor(1.5978)\n",
      "tensor(1.5202)\n",
      "tensor(1.4468)\n",
      "tensor(1.3787)\n",
      "tensor(1.3139)\n",
      "tensor(1.2534)\n",
      "tensor(1.1977)\n",
      "tensor(1.1474)\n",
      "tensor(1.1019)\n",
      "tensor(1.0614)\n",
      "tensor(1.0256)\n",
      "tensor(0.9940)\n",
      "tensor(0.9664)\n",
      "tensor(0.9429)\n",
      "tensor(0.9221)\n",
      "tensor(0.9041)\n",
      "tensor(0.8888)\n",
      "tensor(0.8756)\n",
      "tensor(0.8642)\n",
      "tensor(0.8545)\n",
      "tensor(0.8462)\n",
      "tensor(0.8393)\n",
      "tensor(0.8334)\n",
      "tensor(0.8286)\n",
      "tensor(0.8245)\n",
      "tensor(0.8209)\n",
      "tensor(0.8173)\n",
      "tensor(0.8140)\n",
      "tensor(0.8113)\n",
      "tensor(0.8089)\n",
      "tensor(0.8069)\n",
      "tensor(0.8051)\n",
      "tensor(0.8036)\n",
      "tensor(0.8024)\n",
      "tensor(0.8013)\n",
      "tensor(0.8003)\n",
      "tensor(0.7995)\n",
      "tensor(0.7987)\n",
      "tensor(0.7980)\n",
      "tensor(0.7974)\n",
      "tensor(0.7969)\n"
     ]
    }
   ],
   "source": [
    "label = y_noise\n",
    "for i in range(num_epoch):\n",
    "    optimizer.zero_grad()\n",
    "    output = model(x)\n",
    "    \n",
    "    loss = loss_func(output, label)\n",
    "    loss.backward()#기울기계산\n",
    "    optimizer.step()#경사하강법 적용해서 기울기변경\n",
    "    \n",
    "    if i%10 ==0:\n",
    "        print(loss.data)\n"
   ]
  },
  {
   "cell_type": "code",
   "execution_count": 11,
   "id": "c3a83e43",
   "metadata": {
    "execution": {
     "iopub.execute_input": "2023-06-29T16:04:39.671226Z",
     "iopub.status.busy": "2023-06-29T16:04:39.670899Z",
     "iopub.status.idle": "2023-06-29T16:04:39.675420Z",
     "shell.execute_reply": "2023-06-29T16:04:39.674417Z"
    },
    "papermill": {
     "duration": 0.012249,
     "end_time": "2023-06-29T16:04:39.677699",
     "exception": false,
     "start_time": "2023-06-29T16:04:39.665450",
     "status": "completed"
    },
    "tags": []
   },
   "outputs": [],
   "source": [
    "param_list = list(model.parameters())"
   ]
  },
  {
   "cell_type": "code",
   "execution_count": 12,
   "id": "f9174c73",
   "metadata": {
    "execution": {
     "iopub.execute_input": "2023-06-29T16:04:39.687851Z",
     "iopub.status.busy": "2023-06-29T16:04:39.687592Z",
     "iopub.status.idle": "2023-06-29T16:04:39.692599Z",
     "shell.execute_reply": "2023-06-29T16:04:39.691581Z"
    },
    "papermill": {
     "duration": 0.01432,
     "end_time": "2023-06-29T16:04:39.696495",
     "exception": false,
     "start_time": "2023-06-29T16:04:39.682175",
     "status": "completed"
    },
    "tags": []
   },
   "outputs": [
    {
     "name": "stdout",
     "output_type": "stream",
     "text": [
      "1.9885910749435425 2.8769168853759766\n"
     ]
    }
   ],
   "source": [
    "print(param_list[0].item(),param_list[1].item())"
   ]
  },
  {
   "cell_type": "code",
   "execution_count": null,
   "id": "8bbc2576",
   "metadata": {
    "papermill": {
     "duration": 0.004798,
     "end_time": "2023-06-29T16:04:39.706722",
     "exception": false,
     "start_time": "2023-06-29T16:04:39.701924",
     "status": "completed"
    },
    "tags": []
   },
   "outputs": [],
   "source": []
  }
 ],
 "metadata": {
  "kernelspec": {
   "display_name": "Python 3",
   "language": "python",
   "name": "python3"
  },
  "language_info": {
   "codemirror_mode": {
    "name": "ipython",
    "version": 3
   },
   "file_extension": ".py",
   "mimetype": "text/x-python",
   "name": "python",
   "nbconvert_exporter": "python",
   "pygments_lexer": "ipython3",
   "version": "3.10.10"
  },
  "papermill": {
   "default_parameters": {},
   "duration": 16.40535,
   "end_time": "2023-06-29T16:04:41.233564",
   "environment_variables": {},
   "exception": null,
   "input_path": "__notebook__.ipynb",
   "output_path": "__notebook__.ipynb",
   "parameters": {},
   "start_time": "2023-06-29T16:04:24.828214",
   "version": "2.4.0"
  }
 },
 "nbformat": 4,
 "nbformat_minor": 5
}

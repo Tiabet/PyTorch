{
 "cells": [
  {
   "cell_type": "code",
   "execution_count": 1,
   "id": "468d3b8d",
   "metadata": {
    "_cell_guid": "b1076dfc-b9ad-4769-8c92-a6c4dae69d19",
    "_uuid": "8f2839f25d086af736a60e9eeb907d3b93b6e0e5",
    "execution": {
     "iopub.execute_input": "2023-06-29T15:50:43.156104Z",
     "iopub.status.busy": "2023-06-29T15:50:43.155264Z",
     "iopub.status.idle": "2023-06-29T15:50:46.929053Z",
     "shell.execute_reply": "2023-06-29T15:50:46.928043Z"
    },
    "papermill": {
     "duration": 3.781769,
     "end_time": "2023-06-29T15:50:46.931869",
     "exception": false,
     "start_time": "2023-06-29T15:50:43.150100",
     "status": "completed"
    },
    "tags": []
   },
   "outputs": [],
   "source": [
    "import torch\n",
    "import torch.nn as nn"
   ]
  },
  {
   "cell_type": "code",
   "execution_count": 2,
   "id": "0c8319b0",
   "metadata": {
    "execution": {
     "iopub.execute_input": "2023-06-29T15:50:46.940453Z",
     "iopub.status.busy": "2023-06-29T15:50:46.938519Z",
     "iopub.status.idle": "2023-06-29T15:50:46.950370Z",
     "shell.execute_reply": "2023-06-29T15:50:46.949401Z"
    },
    "papermill": {
     "duration": 0.017831,
     "end_time": "2023-06-29T15:50:46.952563",
     "exception": false,
     "start_time": "2023-06-29T15:50:46.934732",
     "status": "completed"
    },
    "tags": []
   },
   "outputs": [],
   "source": [
    "X = torch.Tensor(2,3) #Tensor = 다차원 array"
   ]
  },
  {
   "cell_type": "code",
   "execution_count": 3,
   "id": "af63ccf2",
   "metadata": {
    "execution": {
     "iopub.execute_input": "2023-06-29T15:50:46.960397Z",
     "iopub.status.busy": "2023-06-29T15:50:46.958865Z",
     "iopub.status.idle": "2023-06-29T15:50:47.044116Z",
     "shell.execute_reply": "2023-06-29T15:50:47.043130Z"
    },
    "papermill": {
     "duration": 0.091263,
     "end_time": "2023-06-29T15:50:47.046592",
     "exception": false,
     "start_time": "2023-06-29T15:50:46.955329",
     "status": "completed"
    },
    "tags": []
   },
   "outputs": [
    {
     "data": {
      "text/plain": [
       "tensor([[-3.3780e+19,  4.5083e-41,  3.9666e-38],\n",
       "        [ 4.5083e-41,  3.9478e-38,  4.5083e-41]])"
      ]
     },
     "execution_count": 3,
     "metadata": {},
     "output_type": "execute_result"
    }
   ],
   "source": [
    "X"
   ]
  },
  {
   "cell_type": "code",
   "execution_count": 4,
   "id": "089caf19",
   "metadata": {
    "execution": {
     "iopub.execute_input": "2023-06-29T15:50:47.055433Z",
     "iopub.status.busy": "2023-06-29T15:50:47.053749Z",
     "iopub.status.idle": "2023-06-29T15:50:47.060518Z",
     "shell.execute_reply": "2023-06-29T15:50:47.059335Z"
    },
    "papermill": {
     "duration": 0.013153,
     "end_time": "2023-06-29T15:50:47.062797",
     "exception": false,
     "start_time": "2023-06-29T15:50:47.049644",
     "status": "completed"
    },
    "tags": []
   },
   "outputs": [],
   "source": [
    "X = torch.Tensor([[1,2,3],[4,5,6]])"
   ]
  },
  {
   "cell_type": "code",
   "execution_count": 5,
   "id": "25e3097b",
   "metadata": {
    "execution": {
     "iopub.execute_input": "2023-06-29T15:50:47.070622Z",
     "iopub.status.busy": "2023-06-29T15:50:47.069640Z",
     "iopub.status.idle": "2023-06-29T15:50:47.077007Z",
     "shell.execute_reply": "2023-06-29T15:50:47.076023Z"
    },
    "papermill": {
     "duration": 0.013353,
     "end_time": "2023-06-29T15:50:47.079203",
     "exception": false,
     "start_time": "2023-06-29T15:50:47.065850",
     "status": "completed"
    },
    "tags": []
   },
   "outputs": [
    {
     "data": {
      "text/plain": [
       "tensor([[1., 2., 3.],\n",
       "        [4., 5., 6.]])"
      ]
     },
     "execution_count": 5,
     "metadata": {},
     "output_type": "execute_result"
    }
   ],
   "source": [
    "X"
   ]
  },
  {
   "cell_type": "code",
   "execution_count": null,
   "id": "c9da6641",
   "metadata": {
    "papermill": {
     "duration": 0.002612,
     "end_time": "2023-06-29T15:50:47.084747",
     "exception": false,
     "start_time": "2023-06-29T15:50:47.082135",
     "status": "completed"
    },
    "tags": []
   },
   "outputs": [],
   "source": []
  }
 ],
 "metadata": {
  "kernelspec": {
   "display_name": "Python 3",
   "language": "python",
   "name": "python3"
  },
  "language_info": {
   "codemirror_mode": {
    "name": "ipython",
    "version": 3
   },
   "file_extension": ".py",
   "mimetype": "text/x-python",
   "name": "python",
   "nbconvert_exporter": "python",
   "pygments_lexer": "ipython3",
   "version": "3.10.10"
  },
  "papermill": {
   "default_parameters": {},
   "duration": 17.892117,
   "end_time": "2023-06-29T15:50:49.466854",
   "environment_variables": {},
   "exception": null,
   "input_path": "__notebook__.ipynb",
   "output_path": "__notebook__.ipynb",
   "parameters": {},
   "start_time": "2023-06-29T15:50:31.574737",
   "version": "2.4.0"
  }
 },
 "nbformat": 4,
 "nbformat_minor": 5
}
